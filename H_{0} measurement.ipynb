{
 "cells": [
  {
   "cell_type": "code",
   "execution_count": 1,
   "metadata": {},
   "outputs": [],
   "source": [
    "import os\n",
    "import numpy as np\n",
    "import statistics\n",
    "import matplotlib.pyplot as plt\n",
    "os.chdir('/home/stamou/data')"
   ]
  },
  {
   "cell_type": "code",
   "execution_count": 2,
   "metadata": {},
   "outputs": [],
   "source": [
    "zsn,zhel,mb,dmb = np.loadtxt('lcparams_full_long_zhel.txt',usecols=(1,2,4,5),unpack=True)"
   ]
  },
  {
   "cell_type": "code",
   "execution_count": 3,
   "metadata": {},
   "outputs": [
    {
     "name": "stdout",
     "output_type": "stream",
     "text": [
      "full =  1048\n",
      "reduced =  234\n"
     ]
    }
   ],
   "source": [
    "#Create the reduced list which contains 0.015<z<0.23\n",
    "# We begin by isolating the magnitude and the redshift data and we create a list\n",
    "z=np.loadtxt('zhel.txt')\n",
    "mag= np.loadtxt('lcparams_full_long_zhel.txt',usecols=(4),unpack=True)\n",
    "mzlist=[[z[i],mag[i]] for i in range(1048)]\n",
    "# Now we reduce the list to the desired range of redshift\n",
    "filtered = filter(lambda num: num[0] > 0.0233 and num[0] < 0.15, mzlist)\n",
    "mzreduced=list(filtered)\n",
    "# Check the length of the full list compared to the length of the reduced list\n",
    "print(\"full = \",len(mzlist))\n",
    "print(\"reduced = \", len(mzreduced))"
   ]
  },
  {
   "cell_type": "code",
   "execution_count": 4,
   "metadata": {},
   "outputs": [
    {
     "data": {
      "text/plain": [
       "0.7143766931821526"
      ]
     },
     "execution_count": 4,
     "metadata": {},
     "output_type": "execute_result"
    }
   ],
   "source": [
    "# Fix deceleration and jerk\n",
    "q=-0.55\n",
    "j=1\n",
    "c=3*10**5\n",
    "# Isolate reduced redshift and magnitude from mzreduced list\n",
    "zreduced=[mzreduced[i][0] for i in range(234)]\n",
    "magreduced=[mzreduced[i][1] for i in range(234)]\n",
    "# Define the intercept\n",
    "a=[np.log10(c*zreduced[i])+np.log10((1+((1-q)/2)*zreduced[i]-((1-q-(3*q**2)+j)/6)*(zreduced[i])**2))-0.2*magreduced[i] for i in range(234)]\n",
    "ab=np.mean(a)\n",
    "ab"
   ]
  },
  {
   "cell_type": "code",
   "execution_count": 5,
   "metadata": {},
   "outputs": [
    {
     "name": "stdout",
     "output_type": "stream",
     "text": [
      "H_{0} =  73.0763240866869\n"
     ]
    }
   ],
   "source": [
    "# Define the absolute magnitude\n",
    "M=-19.253\n",
    "# Infer Hubble constant\n",
    "Hzero=10**((5*ab+M+25)/5)\n",
    "print(\"H_{0} = \",Hzero)"
   ]
  },
  {
   "cell_type": "code",
   "execution_count": null,
   "metadata": {},
   "outputs": [],
   "source": []
  }
 ],
 "metadata": {
  "kernelspec": {
   "display_name": "Python 3",
   "language": "python",
   "name": "python3"
  },
  "language_info": {
   "codemirror_mode": {
    "name": "ipython",
    "version": 3
   },
   "file_extension": ".py",
   "mimetype": "text/x-python",
   "name": "python",
   "nbconvert_exporter": "python",
   "pygments_lexer": "ipython3",
   "version": "3.10.4"
  }
 },
 "nbformat": 4,
 "nbformat_minor": 4
}
